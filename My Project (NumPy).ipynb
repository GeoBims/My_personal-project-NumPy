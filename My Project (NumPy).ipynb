{
 "cells": [
  {
   "cell_type": "markdown",
   "id": "72d01ea5",
   "metadata": {},
   "source": [
    "### NUMPY"
   ]
  },
  {
   "cell_type": "code",
   "execution_count": 1,
   "id": "04ea8b8d",
   "metadata": {},
   "outputs": [],
   "source": [
    "# Import NumPy as its abbreviation 'np'\n",
    "\n",
    "import numpy as np"
   ]
  },
  {
   "cell_type": "code",
   "execution_count": 2,
   "id": "e41f5042",
   "metadata": {},
   "outputs": [
    {
     "data": {
      "text/plain": [
       "array([1, 2, 3, 4, 5])"
      ]
     },
     "execution_count": 2,
     "metadata": {},
     "output_type": "execute_result"
    }
   ],
   "source": [
    "# Create a 1-dimensional NumPy array using np.array()\n",
    "\n",
    "a1 = np.array ([1,2,3,4,5])\n",
    "a1"
   ]
  },
  {
   "cell_type": "code",
   "execution_count": 3,
   "id": "ca708f74",
   "metadata": {},
   "outputs": [
    {
     "data": {
      "text/plain": [
       "1"
      ]
     },
     "execution_count": 3,
     "metadata": {},
     "output_type": "execute_result"
    }
   ],
   "source": [
    "a1.ndim"
   ]
  },
  {
   "cell_type": "code",
   "execution_count": 4,
   "id": "05bfe3c3",
   "metadata": {},
   "outputs": [
    {
     "data": {
      "text/plain": [
       "array([[1, 2, 3],\n",
       "       [4, 5, 6]])"
      ]
     },
     "execution_count": 4,
     "metadata": {},
     "output_type": "execute_result"
    }
   ],
   "source": [
    "# Create a 2-dimensional NumPy array using np.array()\n",
    "\n",
    "a2 = np.array ([[1,2,3],\n",
    "              [4,5,6]])\n",
    "a2"
   ]
  },
  {
   "cell_type": "code",
   "execution_count": 5,
   "id": "0425b8c1",
   "metadata": {},
   "outputs": [
    {
     "data": {
      "text/plain": [
       "2"
      ]
     },
     "execution_count": 5,
     "metadata": {},
     "output_type": "execute_result"
    }
   ],
   "source": [
    "a2.ndim"
   ]
  },
  {
   "cell_type": "code",
   "execution_count": 6,
   "id": "0d6a41ab",
   "metadata": {},
   "outputs": [
    {
     "data": {
      "text/plain": [
       "array([[[1, 2, 3, 3],\n",
       "        [6, 9, 0, 2],\n",
       "        [4, 5, 6, 4],\n",
       "        [5, 6, 7, 1]],\n",
       "\n",
       "       [[7, 5, 1, 8],\n",
       "        [2, 3, 5, 4],\n",
       "        [1, 2, 2, 1],\n",
       "        [7, 8, 9, 3]]])"
      ]
     },
     "execution_count": 6,
     "metadata": {},
     "output_type": "execute_result"
    }
   ],
   "source": [
    "# Create a 3-dimensional Numpy array using np.array()\n",
    "\n",
    "a3 = np.array ([[[1,2,3,3], [6,9,0,2], [4,5,6,4], [5,6,7,1]], [[7,5,1,8], [2,3,5,4], [1,2,2,1], [7,8,9,3]]])\n",
    "a3"
   ]
  },
  {
   "cell_type": "code",
   "execution_count": 7,
   "id": "a24508f5",
   "metadata": {},
   "outputs": [
    {
     "data": {
      "text/plain": [
       "3"
      ]
     },
     "execution_count": 7,
     "metadata": {},
     "output_type": "execute_result"
    }
   ],
   "source": [
    "a3.ndim"
   ]
  },
  {
   "cell_type": "code",
   "execution_count": 8,
   "id": "2d4619e6",
   "metadata": {},
   "outputs": [],
   "source": [
    "# Attributes of 1-dimensional array (shape, number of dimensions, data type, size and type)"
   ]
  },
  {
   "cell_type": "code",
   "execution_count": 9,
   "id": "89a829d6",
   "metadata": {},
   "outputs": [
    {
     "data": {
      "text/plain": [
       "((5,), 5, dtype('int32'), numpy.ndarray)"
      ]
     },
     "execution_count": 9,
     "metadata": {},
     "output_type": "execute_result"
    }
   ],
   "source": [
    "a1.shape, a1.size, a1.dtype, type(a1)"
   ]
  },
  {
   "cell_type": "code",
   "execution_count": 10,
   "id": "b1b6d8ff",
   "metadata": {},
   "outputs": [
    {
     "data": {
      "text/plain": [
       "((2, 3), 6, dtype('int32'), numpy.ndarray)"
      ]
     },
     "execution_count": 10,
     "metadata": {},
     "output_type": "execute_result"
    }
   ],
   "source": [
    "# Attributes of 2-dimensional array\n",
    "\n",
    "a2.shape, a2.size, a2.dtype, type (a2)"
   ]
  },
  {
   "cell_type": "code",
   "execution_count": 11,
   "id": "5de77325",
   "metadata": {},
   "outputs": [
    {
     "data": {
      "text/plain": [
       "((2, 4, 4), 32, dtype('int32'), numpy.ndarray)"
      ]
     },
     "execution_count": 11,
     "metadata": {},
     "output_type": "execute_result"
    }
   ],
   "source": [
    "# Attributes of 3-dimensional array\n",
    "\n",
    "a3.shape, a3.size, a3.dtype, type (a3)"
   ]
  },
  {
   "cell_type": "code",
   "execution_count": 12,
   "id": "32f6ceb4",
   "metadata": {},
   "outputs": [
    {
     "data": {
      "text/html": [
       "<div>\n",
       "<style scoped>\n",
       "    .dataframe tbody tr th:only-of-type {\n",
       "        vertical-align: middle;\n",
       "    }\n",
       "\n",
       "    .dataframe tbody tr th {\n",
       "        vertical-align: top;\n",
       "    }\n",
       "\n",
       "    .dataframe thead th {\n",
       "        text-align: right;\n",
       "    }\n",
       "</style>\n",
       "<table border=\"1\" class=\"dataframe\">\n",
       "  <thead>\n",
       "    <tr style=\"text-align: right;\">\n",
       "      <th></th>\n",
       "      <th>0</th>\n",
       "      <th>1</th>\n",
       "      <th>2</th>\n",
       "    </tr>\n",
       "  </thead>\n",
       "  <tbody>\n",
       "    <tr>\n",
       "      <th>0</th>\n",
       "      <td>1</td>\n",
       "      <td>2</td>\n",
       "      <td>3</td>\n",
       "    </tr>\n",
       "    <tr>\n",
       "      <th>1</th>\n",
       "      <td>4</td>\n",
       "      <td>5</td>\n",
       "      <td>6</td>\n",
       "    </tr>\n",
       "  </tbody>\n",
       "</table>\n",
       "</div>"
      ],
      "text/plain": [
       "   0  1  2\n",
       "0  1  2  3\n",
       "1  4  5  6"
      ]
     },
     "execution_count": 12,
     "metadata": {},
     "output_type": "execute_result"
    }
   ],
   "source": [
    "# Import pandas and create a DataFrame out of one\n",
    "# of the arrays you've created\n",
    "\n",
    "import pandas as pd\n",
    "\n",
    "my_pandas = pd.DataFrame (a2)\n",
    "my_pandas"
   ]
  },
  {
   "cell_type": "code",
   "execution_count": 13,
   "id": "85962991",
   "metadata": {},
   "outputs": [
    {
     "data": {
      "text/plain": [
       "array([[1., 1.],\n",
       "       [1., 1.],\n",
       "       [1., 1.],\n",
       "       [1., 1.],\n",
       "       [1., 1.],\n",
       "       [1., 1.],\n",
       "       [1., 1.],\n",
       "       [1., 1.],\n",
       "       [1., 1.],\n",
       "       [1., 1.]])"
      ]
     },
     "execution_count": 13,
     "metadata": {},
     "output_type": "execute_result"
    }
   ],
   "source": [
    "# Create an array of shape (10, 2) with only ones\n",
    "\n",
    "an_array = np.ones ((10, 2))\n",
    "an_array"
   ]
  },
  {
   "cell_type": "code",
   "execution_count": 14,
   "id": "119f129c",
   "metadata": {},
   "outputs": [
    {
     "data": {
      "text/plain": [
       "array([[[0., 0., 0.],\n",
       "        [0., 0., 0.]],\n",
       "\n",
       "       [[0., 0., 0.],\n",
       "        [0., 0., 0.]],\n",
       "\n",
       "       [[0., 0., 0.],\n",
       "        [0., 0., 0.]],\n",
       "\n",
       "       [[0., 0., 0.],\n",
       "        [0., 0., 0.]],\n",
       "\n",
       "       [[0., 0., 0.],\n",
       "        [0., 0., 0.]],\n",
       "\n",
       "       [[0., 0., 0.],\n",
       "        [0., 0., 0.]],\n",
       "\n",
       "       [[0., 0., 0.],\n",
       "        [0., 0., 0.]]])"
      ]
     },
     "execution_count": 14,
     "metadata": {},
     "output_type": "execute_result"
    }
   ],
   "source": [
    "# Create an array of shape (7, 2, 3) of only zeros\n",
    "\n",
    "an_array2  = np.zeros ((7, 2, 3))\n",
    "an_array2"
   ]
  },
  {
   "cell_type": "code",
   "execution_count": 15,
   "id": "9535e1cf",
   "metadata": {},
   "outputs": [
    {
     "data": {
      "text/plain": [
       "array([ 0,  3,  6,  9, 12, 15, 18, 21, 24, 27, 30, 33, 36, 39, 42, 45, 48,\n",
       "       51, 54, 57, 60, 63, 66, 69, 72, 75, 78, 81, 84, 87, 90, 93, 96, 99])"
      ]
     },
     "execution_count": 15,
     "metadata": {},
     "output_type": "execute_result"
    }
   ],
   "source": [
    "# Create an array within a range of 0 and 100 with step 3\n",
    "\n",
    "an_array3 = np.array(range(0, 100, 3))\n",
    "an_array3"
   ]
  },
  {
   "cell_type": "markdown",
   "id": "195fee52",
   "metadata": {},
   "source": [
    "Or"
   ]
  },
  {
   "cell_type": "code",
   "execution_count": 16,
   "id": "2b46e619",
   "metadata": {},
   "outputs": [
    {
     "data": {
      "text/plain": [
       "array([ 0,  3,  6,  9, 12, 15, 18, 21, 24, 27, 30, 33, 36, 39, 42, 45, 48,\n",
       "       51, 54, 57, 60, 63, 66, 69, 72, 75, 78, 81, 84, 87, 90, 93, 96, 99])"
      ]
     },
     "execution_count": 16,
     "metadata": {},
     "output_type": "execute_result"
    }
   ],
   "source": [
    "an_array33 = np.arange(0, 100, 3)\n",
    "an_array33"
   ]
  },
  {
   "cell_type": "code",
   "execution_count": 17,
   "id": "bd508fec",
   "metadata": {},
   "outputs": [
    {
     "data": {
      "text/plain": [
       "array([[7, 3],\n",
       "       [1, 3],\n",
       "       [2, 8],\n",
       "       [0, 2],\n",
       "       [9, 0],\n",
       "       [2, 6],\n",
       "       [9, 9]])"
      ]
     },
     "execution_count": 17,
     "metadata": {},
     "output_type": "execute_result"
    }
   ],
   "source": [
    "# Create a random array with numbers between 0 and 10 of size (7, 2)\n",
    "\n",
    "an_array4 = np.random.randint(10, size = (7, 2))\n",
    "an_array4"
   ]
  },
  {
   "cell_type": "code",
   "execution_count": 18,
   "id": "2acf3cfd",
   "metadata": {},
   "outputs": [
    {
     "data": {
      "text/plain": [
       "array([[0.91391519, 0.20246652, 0.03651879, 0.9877896 , 0.80903264],\n",
       "       [0.96548337, 0.67831903, 0.91632238, 0.9499054 , 0.12693901],\n",
       "       [0.65186439, 0.44451777, 0.04685385, 0.71686814, 0.47245521]])"
      ]
     },
     "execution_count": 18,
     "metadata": {},
     "output_type": "execute_result"
    }
   ],
   "source": [
    "# Create a random array of floats between 0 & 1 of shape (3, 5)\n",
    "\n",
    "an_array5 = np.random.random((3, 5))\n",
    "an_array5"
   ]
  },
  {
   "cell_type": "code",
   "execution_count": 19,
   "id": "3993aaae",
   "metadata": {},
   "outputs": [
    {
     "data": {
      "text/plain": [
       "array([[6, 3, 7, 4, 6, 9],\n",
       "       [2, 6, 7, 4, 3, 7],\n",
       "       [7, 2, 5, 4, 1, 7],\n",
       "       [5, 1, 4, 0, 9, 5]])"
      ]
     },
     "execution_count": 19,
     "metadata": {},
     "output_type": "execute_result"
    }
   ],
   "source": [
    "# Set the random seed to 42\n",
    "# Create a random array of numbers between 0 & 10 of size (4, 6)\n",
    "\n",
    "np.random.seed (42)\n",
    "\n",
    "an_array6 = np.random.randint (10, size= (4, 6))\n",
    "an_array6"
   ]
  },
  {
   "cell_type": "code",
   "execution_count": 20,
   "id": "3e54d110",
   "metadata": {},
   "outputs": [
    {
     "data": {
      "text/plain": [
       "array([[8, 0, 9, 2, 6, 3, 8],\n",
       "       [2, 4, 2, 6, 4, 8, 6],\n",
       "       [1, 3, 8, 1, 9, 8, 9]])"
      ]
     },
     "execution_count": 20,
     "metadata": {},
     "output_type": "execute_result"
    }
   ],
   "source": [
    "# Create an array of random numbers between 1 & 10 of size (3, 7)\n",
    "# and save it to a variable\n",
    "# Find the unique numbers in the array you just created\n",
    "\n",
    "an_array7 = np.random.randint (10, size =(3, 7))\n",
    "an_array7"
   ]
  },
  {
   "cell_type": "code",
   "execution_count": 21,
   "id": "7f2f2245",
   "metadata": {},
   "outputs": [
    {
     "data": {
      "text/plain": [
       "array([0, 1, 2, 3, 4, 6, 8, 9])"
      ]
     },
     "execution_count": 21,
     "metadata": {},
     "output_type": "execute_result"
    }
   ],
   "source": [
    "np.unique(an_array7)"
   ]
  },
  {
   "cell_type": "code",
   "execution_count": 22,
   "id": "36312376",
   "metadata": {},
   "outputs": [
    {
     "data": {
      "text/plain": [
       "array([8, 0, 9, 2, 6, 3, 8])"
      ]
     },
     "execution_count": 22,
     "metadata": {},
     "output_type": "execute_result"
    }
   ],
   "source": [
    "# Find the 0'th index of the latest array you created\n",
    "\n",
    "an_array7[0]"
   ]
  },
  {
   "cell_type": "code",
   "execution_count": 23,
   "id": "1bb14ee7",
   "metadata": {},
   "outputs": [
    {
     "data": {
      "text/plain": [
       "array([[8, 0, 9, 2, 6, 3, 8],\n",
       "       [2, 4, 2, 6, 4, 8, 6]])"
      ]
     },
     "execution_count": 23,
     "metadata": {},
     "output_type": "execute_result"
    }
   ],
   "source": [
    "# Get the first 2 rows of latest array you created\n",
    "\n",
    "an_array7 [0:2]"
   ]
  },
  {
   "cell_type": "code",
   "execution_count": 24,
   "id": "316584f0",
   "metadata": {},
   "outputs": [
    {
     "data": {
      "text/plain": [
       "array([[8, 0],\n",
       "       [2, 4]])"
      ]
     },
     "execution_count": 24,
     "metadata": {},
     "output_type": "execute_result"
    }
   ],
   "source": [
    "# Get the first 2 values of the first 2 rows of the latest array\n",
    "\n",
    "an_array7 [0:2, 0:2]"
   ]
  },
  {
   "cell_type": "code",
   "execution_count": 25,
   "id": "e11f2124",
   "metadata": {},
   "outputs": [],
   "source": [
    "# Create a random array of numbers between 0 & 10 and an array of ones\n",
    "# both of size (3, 5), save them both to variables\n",
    "\n",
    "an_array8 = np.random.randint(10, size = (3, 5))\n",
    "an_array9 = np.ones ((3, 5))"
   ]
  },
  {
   "cell_type": "code",
   "execution_count": 26,
   "id": "195f0e23",
   "metadata": {},
   "outputs": [
    {
     "data": {
      "text/plain": [
       "array([[4, 1, 3, 6, 7],\n",
       "       [2, 0, 3, 1, 7],\n",
       "       [3, 1, 5, 5, 9]])"
      ]
     },
     "execution_count": 26,
     "metadata": {},
     "output_type": "execute_result"
    }
   ],
   "source": [
    "an_array8"
   ]
  },
  {
   "cell_type": "code",
   "execution_count": 27,
   "id": "38880718",
   "metadata": {},
   "outputs": [
    {
     "data": {
      "text/plain": [
       "array([[1., 1., 1., 1., 1.],\n",
       "       [1., 1., 1., 1., 1.],\n",
       "       [1., 1., 1., 1., 1.]])"
      ]
     },
     "execution_count": 27,
     "metadata": {},
     "output_type": "execute_result"
    }
   ],
   "source": [
    "an_array9"
   ]
  },
  {
   "cell_type": "code",
   "execution_count": 28,
   "id": "9408ff6f",
   "metadata": {},
   "outputs": [
    {
     "data": {
      "text/plain": [
       "array([[ 5.,  2.,  4.,  7.,  8.],\n",
       "       [ 3.,  1.,  4.,  2.,  8.],\n",
       "       [ 4.,  2.,  6.,  6., 10.]])"
      ]
     },
     "execution_count": 28,
     "metadata": {},
     "output_type": "execute_result"
    }
   ],
   "source": [
    "# Add the two arrays together\n",
    "\n",
    "an_array8 + an_array9"
   ]
  },
  {
   "cell_type": "code",
   "execution_count": 29,
   "id": "e163682f",
   "metadata": {},
   "outputs": [
    {
     "data": {
      "text/plain": [
       "array([[1., 1., 1.],\n",
       "       [1., 1., 1.],\n",
       "       [1., 1., 1.],\n",
       "       [1., 1., 1.],\n",
       "       [1., 1., 1.]])"
      ]
     },
     "execution_count": 29,
     "metadata": {},
     "output_type": "execute_result"
    }
   ],
   "source": [
    "# Create another array of ones of shape (5, 3)\n",
    "\n",
    "a10 = np.ones ((5,3))\n",
    "a10"
   ]
  },
  {
   "cell_type": "code",
   "execution_count": 30,
   "id": "bf9eaa70",
   "metadata": {},
   "outputs": [
    {
     "ename": "ValueError",
     "evalue": "operands could not be broadcast together with shapes (3,5) (5,3) ",
     "output_type": "error",
     "traceback": [
      "\u001b[1;31m---------------------------------------------------------------------------\u001b[0m",
      "\u001b[1;31mValueError\u001b[0m                                Traceback (most recent call last)",
      "\u001b[1;32m<ipython-input-30-051daa5dbecc>\u001b[0m in \u001b[0;36m<module>\u001b[1;34m\u001b[0m\n\u001b[1;32m----> 1\u001b[1;33m \u001b[0man_array9\u001b[0m \u001b[1;33m+\u001b[0m \u001b[0ma10\u001b[0m\u001b[1;33m\u001b[0m\u001b[1;33m\u001b[0m\u001b[0m\n\u001b[0m",
      "\u001b[1;31mValueError\u001b[0m: operands could not be broadcast together with shapes (3,5) (5,3) "
     ]
    }
   ],
   "source": [
    "an_array9 + a10"
   ]
  },
  {
   "cell_type": "code",
   "execution_count": 31,
   "id": "a88bbe0a",
   "metadata": {},
   "outputs": [
    {
     "data": {
      "text/plain": [
       "array([[2., 2., 2., 2., 2.],\n",
       "       [2., 2., 2., 2., 2.],\n",
       "       [2., 2., 2., 2., 2.]])"
      ]
     },
     "execution_count": 31,
     "metadata": {},
     "output_type": "execute_result"
    }
   ],
   "source": [
    "a11= an_array9 + a10.reshape (3, 5)\n",
    "a11"
   ]
  },
  {
   "cell_type": "code",
   "execution_count": 32,
   "id": "92425ec1",
   "metadata": {},
   "outputs": [
    {
     "data": {
      "text/plain": [
       "array([[3, 5, 1, 9, 1],\n",
       "       [9, 3, 7, 6, 8],\n",
       "       [7, 4, 1, 4, 7]])"
      ]
     },
     "execution_count": 32,
     "metadata": {},
     "output_type": "execute_result"
    }
   ],
   "source": [
    "# Create another array of ones of shape (3, 5)\n",
    "\n",
    "a12 = np.random.randint (10, size = (3, 5)) \n",
    "a12"
   ]
  },
  {
   "cell_type": "code",
   "execution_count": 33,
   "id": "4ab6ede1",
   "metadata": {},
   "outputs": [
    {
     "data": {
      "text/plain": [
       "array([[2., 4., 0., 8., 0.],\n",
       "       [8., 2., 6., 5., 7.],\n",
       "       [6., 3., 0., 3., 6.]])"
      ]
     },
     "execution_count": 33,
     "metadata": {},
     "output_type": "execute_result"
    }
   ],
   "source": [
    "# Subtract the new array of ones from the other most recent array\n",
    "\n",
    "a13 = a12-an_array9\n",
    "a13"
   ]
  },
  {
   "cell_type": "code",
   "execution_count": 34,
   "id": "6f7cdd62",
   "metadata": {},
   "outputs": [
    {
     "data": {
      "text/plain": [
       "array([[2., 4., 0., 8., 0.],\n",
       "       [8., 2., 6., 5., 7.],\n",
       "       [6., 3., 0., 3., 6.]])"
      ]
     },
     "execution_count": 34,
     "metadata": {},
     "output_type": "execute_result"
    }
   ],
   "source": [
    "# Multiply the ones array with the latest array\n",
    "\n",
    "a14 = an_array9 * a13\n",
    "a14"
   ]
  },
  {
   "cell_type": "code",
   "execution_count": 35,
   "id": "897c5943",
   "metadata": {},
   "outputs": [
    {
     "data": {
      "text/plain": [
       "array([[ 4., 16.,  0., 64.,  0.],\n",
       "       [64.,  4., 36., 25., 49.],\n",
       "       [36.,  9.,  0.,  9., 36.]])"
      ]
     },
     "execution_count": 35,
     "metadata": {},
     "output_type": "execute_result"
    }
   ],
   "source": [
    "# Take the latest array to the power of 2 using '**'\n",
    "a14 ** 2"
   ]
  },
  {
   "cell_type": "code",
   "execution_count": 36,
   "id": "2aafb2ba",
   "metadata": {},
   "outputs": [
    {
     "data": {
      "text/plain": [
       "array([[ 4., 16.,  0., 64.,  0.],\n",
       "       [64.,  4., 36., 25., 49.],\n",
       "       [36.,  9.,  0.,  9., 36.]])"
      ]
     },
     "execution_count": 36,
     "metadata": {},
     "output_type": "execute_result"
    }
   ],
   "source": [
    "# Do the same thing with np.square()\n",
    "\n",
    "a15 = np.square (a14)\n",
    "a15"
   ]
  },
  {
   "cell_type": "code",
   "execution_count": 37,
   "id": "28416781",
   "metadata": {},
   "outputs": [
    {
     "data": {
      "text/plain": [
       "23.466666666666665"
      ]
     },
     "execution_count": 37,
     "metadata": {},
     "output_type": "execute_result"
    }
   ],
   "source": [
    "# Find the mean of the latest array using np.mean()\n",
    "\n",
    "a16 = np.mean (a15)\n",
    "a16"
   ]
  },
  {
   "cell_type": "code",
   "execution_count": 38,
   "id": "0794e07d",
   "metadata": {},
   "outputs": [
    {
     "data": {
      "text/plain": [
       "64.0"
      ]
     },
     "execution_count": 38,
     "metadata": {},
     "output_type": "execute_result"
    }
   ],
   "source": [
    "# Find the maximum of the latest array using np.max()\n",
    "\n",
    "np.max (a15)"
   ]
  },
  {
   "cell_type": "code",
   "execution_count": 39,
   "id": "c88232b3",
   "metadata": {},
   "outputs": [
    {
     "data": {
      "text/plain": [
       "0.0"
      ]
     },
     "execution_count": 39,
     "metadata": {},
     "output_type": "execute_result"
    }
   ],
   "source": [
    "# Find the minimum of the latest array using np.min()\n",
    "\n",
    "np.min (a15)"
   ]
  },
  {
   "cell_type": "code",
   "execution_count": 40,
   "id": "16a9e346",
   "metadata": {},
   "outputs": [
    {
     "data": {
      "text/plain": [
       "22.054074957300347"
      ]
     },
     "execution_count": 40,
     "metadata": {},
     "output_type": "execute_result"
    }
   ],
   "source": [
    "# Find the standard deviation of the latest array\n",
    "\n",
    "np.std(a15)"
   ]
  },
  {
   "cell_type": "code",
   "execution_count": 41,
   "id": "88113215",
   "metadata": {},
   "outputs": [
    {
     "data": {
      "text/plain": [
       "486.3822222222223"
      ]
     },
     "execution_count": 41,
     "metadata": {},
     "output_type": "execute_result"
    }
   ],
   "source": [
    "# Find the variance of the latest array\n",
    "\n",
    "np.var(a15)"
   ]
  },
  {
   "cell_type": "code",
   "execution_count": 42,
   "id": "bd11be6b",
   "metadata": {},
   "outputs": [
    {
     "data": {
      "text/plain": [
       "array([[[ 4.],\n",
       "        [16.],\n",
       "        [ 0.],\n",
       "        [64.],\n",
       "        [ 0.]],\n",
       "\n",
       "       [[64.],\n",
       "        [ 4.],\n",
       "        [36.],\n",
       "        [25.],\n",
       "        [49.]],\n",
       "\n",
       "       [[36.],\n",
       "        [ 9.],\n",
       "        [ 0.],\n",
       "        [ 9.],\n",
       "        [36.]]])"
      ]
     },
     "execution_count": 42,
     "metadata": {},
     "output_type": "execute_result"
    }
   ],
   "source": [
    "# Reshape the latest array to (3, 5, 1)\n",
    "\n",
    "a15.reshape (3,5,1)"
   ]
  },
  {
   "cell_type": "code",
   "execution_count": 43,
   "id": "014a4296",
   "metadata": {},
   "outputs": [
    {
     "data": {
      "text/plain": [
       "array([[ 4., 64., 36.],\n",
       "       [16.,  4.,  9.],\n",
       "       [ 0., 36.,  0.],\n",
       "       [64., 25.,  9.],\n",
       "       [ 0., 49., 36.]])"
      ]
     },
     "execution_count": 43,
     "metadata": {},
     "output_type": "execute_result"
    }
   ],
   "source": [
    "a15.T"
   ]
  },
  {
   "cell_type": "code",
   "execution_count": 44,
   "id": "91940585",
   "metadata": {},
   "outputs": [],
   "source": [
    "# Create two arrays of random integers between 0 to 10\n",
    "# one of size (3, 3) the other of size (3, 2)\n",
    "\n",
    "a20 = np.random.randint (10, size = (3, 3))\n",
    "a21 = np.random.randint (10, size = (3, 2))"
   ]
  },
  {
   "cell_type": "code",
   "execution_count": 45,
   "id": "8e753e85",
   "metadata": {},
   "outputs": [
    {
     "data": {
      "text/plain": [
       "array([[9, 8, 8],\n",
       "       [0, 8, 6],\n",
       "       [8, 7, 0]])"
      ]
     },
     "execution_count": 45,
     "metadata": {},
     "output_type": "execute_result"
    }
   ],
   "source": [
    "a20"
   ]
  },
  {
   "cell_type": "code",
   "execution_count": 46,
   "id": "2eb06647",
   "metadata": {},
   "outputs": [
    {
     "data": {
      "text/plain": [
       "array([[7, 7],\n",
       "       [2, 0],\n",
       "       [7, 2]])"
      ]
     },
     "execution_count": 46,
     "metadata": {},
     "output_type": "execute_result"
    }
   ],
   "source": [
    "a21"
   ]
  },
  {
   "cell_type": "code",
   "execution_count": 47,
   "id": "712f1fd4",
   "metadata": {},
   "outputs": [
    {
     "data": {
      "text/plain": [
       "array([[135,  79],\n",
       "       [ 58,  12],\n",
       "       [ 70,  56]])"
      ]
     },
     "execution_count": 47,
     "metadata": {},
     "output_type": "execute_result"
    }
   ],
   "source": [
    "# Perform a dot product on the two newest arrays you created\n",
    "\n",
    "np.dot(a20, a21)"
   ]
  },
  {
   "cell_type": "code",
   "execution_count": 48,
   "id": "be491485",
   "metadata": {},
   "outputs": [],
   "source": [
    "# Create two arrays of random integers between 0 to 10\n",
    "# both of size (4, 3)\n",
    "\n",
    "a22 = np.random.randint (10, size = (4, 3))\n",
    "a23 = np.random.randint (10, size = (4, 3))"
   ]
  },
  {
   "cell_type": "code",
   "execution_count": 49,
   "id": "6485cb9e",
   "metadata": {},
   "outputs": [
    {
     "data": {
      "text/plain": [
       "array([[2, 0, 4],\n",
       "       [9, 6, 9],\n",
       "       [8, 6, 8],\n",
       "       [7, 1, 0]])"
      ]
     },
     "execution_count": 49,
     "metadata": {},
     "output_type": "execute_result"
    }
   ],
   "source": [
    "a22"
   ]
  },
  {
   "cell_type": "code",
   "execution_count": 50,
   "id": "b56b9061",
   "metadata": {},
   "outputs": [
    {
     "data": {
      "text/plain": [
       "array([[6, 6, 7],\n",
       "       [4, 2, 7],\n",
       "       [5, 2, 0],\n",
       "       [2, 4, 2]])"
      ]
     },
     "execution_count": 50,
     "metadata": {},
     "output_type": "execute_result"
    }
   ],
   "source": [
    "a23"
   ]
  },
  {
   "cell_type": "code",
   "execution_count": 51,
   "id": "eb5f6594",
   "metadata": {},
   "outputs": [
    {
     "ename": "ValueError",
     "evalue": "shapes (4,3) and (4,3) not aligned: 3 (dim 1) != 4 (dim 0)",
     "output_type": "error",
     "traceback": [
      "\u001b[1;31m---------------------------------------------------------------------------\u001b[0m",
      "\u001b[1;31mValueError\u001b[0m                                Traceback (most recent call last)",
      "\u001b[1;32m<ipython-input-51-88b5ec46cf20>\u001b[0m in \u001b[0;36m<module>\u001b[1;34m\u001b[0m\n\u001b[1;32m----> 1\u001b[1;33m \u001b[0mnp\u001b[0m\u001b[1;33m.\u001b[0m\u001b[0mdot\u001b[0m \u001b[1;33m(\u001b[0m\u001b[0ma22\u001b[0m\u001b[1;33m,\u001b[0m \u001b[0ma23\u001b[0m\u001b[1;33m)\u001b[0m\u001b[1;33m\u001b[0m\u001b[1;33m\u001b[0m\u001b[0m\n\u001b[0m",
      "\u001b[1;32m<__array_function__ internals>\u001b[0m in \u001b[0;36mdot\u001b[1;34m(*args, **kwargs)\u001b[0m\n",
      "\u001b[1;31mValueError\u001b[0m: shapes (4,3) and (4,3) not aligned: 3 (dim 1) != 4 (dim 0)"
     ]
    }
   ],
   "source": [
    "np.dot (a22, a23)"
   ]
  },
  {
   "cell_type": "code",
   "execution_count": 52,
   "id": "304165fe",
   "metadata": {},
   "outputs": [
    {
     "data": {
      "text/plain": [
       "array([[ 40,  36,  10,  12],\n",
       "       [153, 111,  57,  60],\n",
       "       [140, 100,  52,  56],\n",
       "       [ 48,  30,  37,  18]])"
      ]
     },
     "execution_count": 52,
     "metadata": {},
     "output_type": "execute_result"
    }
   ],
   "source": [
    "# Take the latest two arrays, perform a transpose on one of them and then perfoa dot product on them both\n",
    "\n",
    "np.dot (a22, a23.T)"
   ]
  },
  {
   "cell_type": "code",
   "execution_count": 53,
   "id": "54bcfbb2",
   "metadata": {},
   "outputs": [],
   "source": [
    "# Create two arrays of random integers between 0 & 10 of the same shape\n",
    "# and save them to variables\n",
    "\n",
    "a30 = np.random.randint (10, size = (3, 5))\n",
    "a31 = np.random.randint (10, size = (3, 5))"
   ]
  },
  {
   "cell_type": "code",
   "execution_count": 54,
   "id": "a3fe3e28",
   "metadata": {},
   "outputs": [
    {
     "data": {
      "text/plain": [
       "array([[0, 4, 9, 6, 6],\n",
       "       [8, 9, 9, 2, 6],\n",
       "       [0, 3, 3, 4, 6]])"
      ]
     },
     "execution_count": 54,
     "metadata": {},
     "output_type": "execute_result"
    }
   ],
   "source": [
    "a30"
   ]
  },
  {
   "cell_type": "code",
   "execution_count": 55,
   "id": "39e83e89",
   "metadata": {},
   "outputs": [
    {
     "data": {
      "text/plain": [
       "array([[6, 3, 6, 2, 5],\n",
       "       [1, 9, 8, 4, 5],\n",
       "       [3, 9, 6, 8, 6]])"
      ]
     },
     "execution_count": 55,
     "metadata": {},
     "output_type": "execute_result"
    }
   ],
   "source": [
    "a31"
   ]
  },
  {
   "cell_type": "code",
   "execution_count": 56,
   "id": "2975fe3d",
   "metadata": {},
   "outputs": [
    {
     "data": {
      "text/plain": [
       "array([[False,  True,  True,  True,  True],\n",
       "       [ True, False,  True, False,  True],\n",
       "       [False, False, False, False, False]])"
      ]
     },
     "execution_count": 56,
     "metadata": {},
     "output_type": "execute_result"
    }
   ],
   "source": [
    "# Compare the two arrays with '>'\n",
    "\n",
    "a30 > a31"
   ]
  },
  {
   "cell_type": "code",
   "execution_count": 57,
   "id": "cb2db9ec",
   "metadata": {},
   "outputs": [
    {
     "data": {
      "text/plain": [
       "array([[False,  True,  True,  True,  True],\n",
       "       [ True,  True,  True, False,  True],\n",
       "       [False, False, False, False,  True]])"
      ]
     },
     "execution_count": 57,
     "metadata": {},
     "output_type": "execute_result"
    }
   ],
   "source": [
    "# Compare the two arrays with '>='\n",
    "\n",
    "a30 >= a31"
   ]
  },
  {
   "cell_type": "code",
   "execution_count": 58,
   "id": "ee3d8a8c",
   "metadata": {},
   "outputs": [
    {
     "data": {
      "text/plain": [
       "array([[False, False,  True, False, False],\n",
       "       [ True,  True,  True, False, False],\n",
       "       [False, False, False, False, False]])"
      ]
     },
     "execution_count": 58,
     "metadata": {},
     "output_type": "execute_result"
    }
   ],
   "source": [
    "# Find which elements of the first array are greater than 7\n",
    "\n",
    "a30 > 7"
   ]
  },
  {
   "cell_type": "code",
   "execution_count": 59,
   "id": "58a75ef3",
   "metadata": {},
   "outputs": [
    {
     "data": {
      "text/plain": [
       "array([[False, False, False, False, False],\n",
       "       [False,  True, False, False, False],\n",
       "       [False, False, False, False,  True]])"
      ]
     },
     "execution_count": 59,
     "metadata": {},
     "output_type": "execute_result"
    }
   ],
   "source": [
    "# Which parts of each array are equal? (try using '==')\n",
    "\n",
    "a30 == a31"
   ]
  },
  {
   "cell_type": "code",
   "execution_count": 60,
   "id": "5a3f4c1e",
   "metadata": {},
   "outputs": [
    {
     "data": {
      "text/plain": [
       "array([[0, 4, 6, 6, 9],\n",
       "       [2, 6, 8, 9, 9],\n",
       "       [0, 3, 3, 4, 6]])"
      ]
     },
     "execution_count": 60,
     "metadata": {},
     "output_type": "execute_result"
    }
   ],
   "source": [
    "# Sort one of the arrays you just created in ascending order\n",
    "\n",
    "np.sort (a30)"
   ]
  },
  {
   "cell_type": "code",
   "execution_count": 61,
   "id": "9cf4ef7d",
   "metadata": {},
   "outputs": [
    {
     "data": {
      "text/plain": [
       "array([[2, 3, 5, 6, 6],\n",
       "       [1, 4, 5, 8, 9],\n",
       "       [3, 6, 6, 8, 9]])"
      ]
     },
     "execution_count": 61,
     "metadata": {},
     "output_type": "execute_result"
    }
   ],
   "source": [
    "np.sort (a31)"
   ]
  },
  {
   "cell_type": "code",
   "execution_count": 62,
   "id": "516fef18",
   "metadata": {},
   "outputs": [
    {
     "data": {
      "text/plain": [
       "array([[0, 1, 3, 4, 2],\n",
       "       [3, 4, 0, 1, 2],\n",
       "       [0, 1, 2, 3, 4]], dtype=int64)"
      ]
     },
     "execution_count": 62,
     "metadata": {},
     "output_type": "execute_result"
    }
   ],
   "source": [
    "# Sort the indexes of one of the arrays you just created\n",
    "\n",
    "np.argsort (a30)"
   ]
  },
  {
   "cell_type": "code",
   "execution_count": 63,
   "id": "f92af94f",
   "metadata": {},
   "outputs": [
    {
     "data": {
      "text/plain": [
       "array([[3, 1, 4, 0, 2],\n",
       "       [0, 3, 4, 2, 1],\n",
       "       [0, 2, 4, 3, 1]], dtype=int64)"
      ]
     },
     "execution_count": 63,
     "metadata": {},
     "output_type": "execute_result"
    }
   ],
   "source": [
    "np.argsort (a31)"
   ]
  },
  {
   "cell_type": "code",
   "execution_count": 64,
   "id": "9421299f",
   "metadata": {},
   "outputs": [
    {
     "data": {
      "text/plain": [
       "2"
      ]
     },
     "execution_count": 64,
     "metadata": {},
     "output_type": "execute_result"
    }
   ],
   "source": [
    "# Find the index with the maximum value in one of the arrays you've created\n",
    "\n",
    "np.argmax(a30)"
   ]
  },
  {
   "cell_type": "code",
   "execution_count": 65,
   "id": "dd3c4411",
   "metadata": {},
   "outputs": [
    {
     "data": {
      "text/plain": [
       "6"
      ]
     },
     "execution_count": 65,
     "metadata": {},
     "output_type": "execute_result"
    }
   ],
   "source": [
    "np.argmax(a31)"
   ]
  },
  {
   "cell_type": "code",
   "execution_count": 66,
   "id": "ab5a253c",
   "metadata": {},
   "outputs": [
    {
     "data": {
      "text/plain": [
       "0"
      ]
     },
     "execution_count": 66,
     "metadata": {},
     "output_type": "execute_result"
    }
   ],
   "source": [
    "# Find the index with the minimum value in one of the arrays you've created\n",
    "\n",
    "np.argmin (a30)"
   ]
  },
  {
   "cell_type": "code",
   "execution_count": 67,
   "id": "6ea366a1",
   "metadata": {},
   "outputs": [
    {
     "data": {
      "text/plain": [
       "5"
      ]
     },
     "execution_count": 67,
     "metadata": {},
     "output_type": "execute_result"
    }
   ],
   "source": [
    "np.argmin (a31)"
   ]
  },
  {
   "cell_type": "code",
   "execution_count": 68,
   "id": "ce976b63",
   "metadata": {},
   "outputs": [
    {
     "data": {
      "text/plain": [
       "array([2, 1, 4], dtype=int64)"
      ]
     },
     "execution_count": 68,
     "metadata": {},
     "output_type": "execute_result"
    }
   ],
   "source": [
    "# Find the indexes with the maximum values down the 1st axis (axis=1)\n",
    "# of one of the arrays you created\n",
    "\n",
    "np.argmax(a30, axis = 1)"
   ]
  },
  {
   "cell_type": "code",
   "execution_count": 69,
   "id": "89b3de58",
   "metadata": {},
   "outputs": [
    {
     "data": {
      "text/plain": [
       "array([0, 2, 2, 1, 0], dtype=int64)"
      ]
     },
     "execution_count": 69,
     "metadata": {},
     "output_type": "execute_result"
    }
   ],
   "source": [
    "# Find the indexes with the minimum values across the 0th axis (axis=0)\n",
    "# of one of the arrays you created\n",
    "\n",
    "np.argmin(a30, axis = 0)"
   ]
  },
  {
   "cell_type": "code",
   "execution_count": 70,
   "id": "604f77fb",
   "metadata": {},
   "outputs": [
    {
     "data": {
      "text/plain": [
       "array([[-0.2581848 ,  0.46095562, -1.34938997],\n",
       "       [-1.01907279,  0.12701224, -1.24944372],\n",
       "       [ 1.94511561, -0.15333646, -0.90698723],\n",
       "       [-0.81735416, -0.48312268, -0.56982835]])"
      ]
     },
     "execution_count": 70,
     "metadata": {},
     "output_type": "execute_result"
    }
   ],
   "source": [
    "# Create an array of normally distributed random numbers\n",
    "\n",
    "np.random.randn (4, 3)"
   ]
  },
  {
   "cell_type": "code",
   "execution_count": 71,
   "id": "65bc3ec7",
   "metadata": {},
   "outputs": [
    {
     "data": {
      "text/plain": [
       "array([  1.,  12.,  23.,  34.,  45.,  56.,  67.,  78.,  89., 100.])"
      ]
     },
     "execution_count": 71,
     "metadata": {},
     "output_type": "execute_result"
    }
   ],
   "source": [
    "# Create an array with 10 evenly spaced numbers between 1 and 100\n",
    "\n",
    "np.linspace(1, 100, 10)"
   ]
  }
 ],
 "metadata": {
  "kernelspec": {
   "display_name": "Python 3",
   "language": "python",
   "name": "python3"
  },
  "language_info": {
   "codemirror_mode": {
    "name": "ipython",
    "version": 3
   },
   "file_extension": ".py",
   "mimetype": "text/x-python",
   "name": "python",
   "nbconvert_exporter": "python",
   "pygments_lexer": "ipython3",
   "version": "3.8.8"
  }
 },
 "nbformat": 4,
 "nbformat_minor": 5
}
